{
  "nbformat": 4,
  "nbformat_minor": 0,
  "metadata": {
    "colab": {
      "provenance": []
    },
    "kernelspec": {
      "name": "python3",
      "display_name": "Python 3"
    },
    "language_info": {
      "name": "python"
    }
  },
  "cells": [
    {
      "cell_type": "markdown",
      "source": [
        "Diana Pineda Valencia \n",
        "Cod. 20222579020\n",
        "\n",
        "*Teoria y logica de programación*\n",
        "\n",
        "*01-04-2023*\n",
        "\n",
        "##*CURVA GRANULOMETRICA*##"
      ],
      "metadata": {
        "id": "2Zz0SAjQSLqE"
      }
    },
    {
      "cell_type": "code",
      "execution_count": null,
      "metadata": {
        "id": "jT93eTELmQ5r"
      },
      "outputs": [],
      "source": [
        "import pandas as pd\n",
        "import numpy as np"
      ]
    },
    {
      "cell_type": "code",
      "source": [
        "Malla= pd.Series([\n",
        "    \"#4\", #Tamiz #4\n",
        "    \"#10\", #Tamiz #10\n",
        "    \"#20\", #Tamiz #20\n",
        "    \"#40\", #Tamiz #40\n",
        "    \"#60\", #Tamiz #60\n",
        "    \"#140\", #Tamiz #140\n",
        "    \"#200\", #Tamiz #200\n",
        "])"
      ],
      "metadata": {
        "id": "-9-NJc0HmX_e"
      },
      "execution_count": null,
      "outputs": []
    },
    {
      "cell_type": "code",
      "source": [
        "Abertura= pd.Series([\n",
        "    \"4.750\", #Abertura Tamiz #4\n",
        "    \"2.000\", #Abertura Tamiz #10\n",
        "    \"0.850\", #Abertura Tamiz #20\n",
        "    \"0.2425\", #Abertura Tamiz #40\n",
        "    \"0.250\", #Abertura Tamiz #60\n",
        "    \"0.106\", #Abertura Tamiz #140\n",
        "    \"0.075\", #Abertura Tamiz #200\n",
        "])"
      ],
      "metadata": {
        "id": "tUqwK7XEmcV5"
      },
      "execution_count": null,
      "outputs": []
    },
    {
      "cell_type": "code",
      "source": [
        "Retenido= pd.Series([\n",
        "    0, #Tamiz #4\n",
        "    25, #Tamiz #10\n",
        "    40, #Tamiz #20\n",
        "    56, #Tamiz #40\n",
        "    47, #Tamiz #60\n",
        "    25, #Tamiz #140\n",
        "    23, #Tamiz #200\n",
        "    \n",
        "])"
      ],
      "metadata": {
        "id": "XFT65w9PmfVp"
      },
      "execution_count": null,
      "outputs": []
    },
    {
      "cell_type": "code",
      "source": [
        "Acum=[] #Matriz donde se guardan los datos \n",
        "#Realizar calculo de datos, valor retenidido mas valor acumulado \n",
        "Acum.append(Retenido[0]+0)\n",
        "Acum.append(Retenido[1]+Acum[0])\n",
        "Acum.append(Retenido[2]+Acum[1])\n",
        "Acum.append(Retenido[3]+Acum[2])\n",
        "Acum.append(Retenido[4]+Acum[3])\n",
        "Acum.append(Retenido[5]+Acum[4])\n",
        "Acum.append(Retenido[6]+Acum[5])\n",
        "Ret_Acu =pd.Series(Acum)"
      ],
      "metadata": {
        "id": "6kK0Rian4SLq"
      },
      "execution_count": null,
      "outputs": []
    },
    {
      "cell_type": "code",
      "source": [
        "AcuP=[] \n",
        "#Realizar Calculo, valor Acumulado total - valor retenido el el primer tamiz\n",
        "AcuP.append(Acum[6]-Retenido[0])\n",
        "\n",
        "#Valor acumulado menos el valor retenido en cada tamiz\n",
        "AcuP.append(AcuP[0]-Retenido[1])\n",
        "AcuP.append(AcuP[1]-Retenido[2])\n",
        "AcuP.append(AcuP[2]-Retenido[3])\n",
        "AcuP.append(AcuP[3]-Retenido[4])\n",
        "AcuP.append(AcuP[4]-Retenido[5])\n",
        "AcuP.append(AcuP[5]-Retenido[6])\n",
        "Pasa = pd.Series(AcuP)"
      ],
      "metadata": {
        "id": "CkouzsCZ6XIb"
      },
      "execution_count": null,
      "outputs": []
    },
    {
      "cell_type": "code",
      "source": [
        "Granulometria = pd.DataFrame({  #Se crea la tabla con los valores que se deben ingresar en cada columna \n",
        "    'Malla': Malla,\n",
        "    'Abertura': Abertura,\n",
        "    'Retenido': Retenido,\n",
        "    'Retenido Acumulado': Ret_Acu,\n",
        "    'Pasa': Pasa\n",
        "})\n",
        "Granulometria"
      ],
      "metadata": {
        "colab": {
          "base_uri": "https://localhost:8080/",
          "height": 269
        },
        "id": "scLXwdWf6A77",
        "outputId": "c84a3d1c-43a0-47ac-fbee-c1b9b705eacb"
      },
      "execution_count": null,
      "outputs": [
        {
          "output_type": "execute_result",
          "data": {
            "text/plain": [
              "  Malla Abertura  Retenido  Retenido Acumulado  Pasa\n",
              "0    #4    4.750         0                   0   216\n",
              "1   #10    2.000        25                  25   191\n",
              "2   #20    0.850        40                  65   151\n",
              "3   #40   0.2425        56                 121    95\n",
              "4   #60    0.250        47                 168    48\n",
              "5  #140    0.106        25                 193    23\n",
              "6  #200    0.075        23                 216     0"
            ],
            "text/html": [
              "\n",
              "  <div id=\"df-813555cb-a9bf-40fa-8f3d-70e0e354beda\">\n",
              "    <div class=\"colab-df-container\">\n",
              "      <div>\n",
              "<style scoped>\n",
              "    .dataframe tbody tr th:only-of-type {\n",
              "        vertical-align: middle;\n",
              "    }\n",
              "\n",
              "    .dataframe tbody tr th {\n",
              "        vertical-align: top;\n",
              "    }\n",
              "\n",
              "    .dataframe thead th {\n",
              "        text-align: right;\n",
              "    }\n",
              "</style>\n",
              "<table border=\"1\" class=\"dataframe\">\n",
              "  <thead>\n",
              "    <tr style=\"text-align: right;\">\n",
              "      <th></th>\n",
              "      <th>Malla</th>\n",
              "      <th>Abertura</th>\n",
              "      <th>Retenido</th>\n",
              "      <th>Retenido Acumulado</th>\n",
              "      <th>Pasa</th>\n",
              "    </tr>\n",
              "  </thead>\n",
              "  <tbody>\n",
              "    <tr>\n",
              "      <th>0</th>\n",
              "      <td>#4</td>\n",
              "      <td>4.750</td>\n",
              "      <td>0</td>\n",
              "      <td>0</td>\n",
              "      <td>216</td>\n",
              "    </tr>\n",
              "    <tr>\n",
              "      <th>1</th>\n",
              "      <td>#10</td>\n",
              "      <td>2.000</td>\n",
              "      <td>25</td>\n",
              "      <td>25</td>\n",
              "      <td>191</td>\n",
              "    </tr>\n",
              "    <tr>\n",
              "      <th>2</th>\n",
              "      <td>#20</td>\n",
              "      <td>0.850</td>\n",
              "      <td>40</td>\n",
              "      <td>65</td>\n",
              "      <td>151</td>\n",
              "    </tr>\n",
              "    <tr>\n",
              "      <th>3</th>\n",
              "      <td>#40</td>\n",
              "      <td>0.2425</td>\n",
              "      <td>56</td>\n",
              "      <td>121</td>\n",
              "      <td>95</td>\n",
              "    </tr>\n",
              "    <tr>\n",
              "      <th>4</th>\n",
              "      <td>#60</td>\n",
              "      <td>0.250</td>\n",
              "      <td>47</td>\n",
              "      <td>168</td>\n",
              "      <td>48</td>\n",
              "    </tr>\n",
              "    <tr>\n",
              "      <th>5</th>\n",
              "      <td>#140</td>\n",
              "      <td>0.106</td>\n",
              "      <td>25</td>\n",
              "      <td>193</td>\n",
              "      <td>23</td>\n",
              "    </tr>\n",
              "    <tr>\n",
              "      <th>6</th>\n",
              "      <td>#200</td>\n",
              "      <td>0.075</td>\n",
              "      <td>23</td>\n",
              "      <td>216</td>\n",
              "      <td>0</td>\n",
              "    </tr>\n",
              "  </tbody>\n",
              "</table>\n",
              "</div>\n",
              "      <button class=\"colab-df-convert\" onclick=\"convertToInteractive('df-813555cb-a9bf-40fa-8f3d-70e0e354beda')\"\n",
              "              title=\"Convert this dataframe to an interactive table.\"\n",
              "              style=\"display:none;\">\n",
              "        \n",
              "  <svg xmlns=\"http://www.w3.org/2000/svg\" height=\"24px\"viewBox=\"0 0 24 24\"\n",
              "       width=\"24px\">\n",
              "    <path d=\"M0 0h24v24H0V0z\" fill=\"none\"/>\n",
              "    <path d=\"M18.56 5.44l.94 2.06.94-2.06 2.06-.94-2.06-.94-.94-2.06-.94 2.06-2.06.94zm-11 1L8.5 8.5l.94-2.06 2.06-.94-2.06-.94L8.5 2.5l-.94 2.06-2.06.94zm10 10l.94 2.06.94-2.06 2.06-.94-2.06-.94-.94-2.06-.94 2.06-2.06.94z\"/><path d=\"M17.41 7.96l-1.37-1.37c-.4-.4-.92-.59-1.43-.59-.52 0-1.04.2-1.43.59L10.3 9.45l-7.72 7.72c-.78.78-.78 2.05 0 2.83L4 21.41c.39.39.9.59 1.41.59.51 0 1.02-.2 1.41-.59l7.78-7.78 2.81-2.81c.8-.78.8-2.07 0-2.86zM5.41 20L4 18.59l7.72-7.72 1.47 1.35L5.41 20z\"/>\n",
              "  </svg>\n",
              "      </button>\n",
              "      \n",
              "  <style>\n",
              "    .colab-df-container {\n",
              "      display:flex;\n",
              "      flex-wrap:wrap;\n",
              "      gap: 12px;\n",
              "    }\n",
              "\n",
              "    .colab-df-convert {\n",
              "      background-color: #E8F0FE;\n",
              "      border: none;\n",
              "      border-radius: 50%;\n",
              "      cursor: pointer;\n",
              "      display: none;\n",
              "      fill: #1967D2;\n",
              "      height: 32px;\n",
              "      padding: 0 0 0 0;\n",
              "      width: 32px;\n",
              "    }\n",
              "\n",
              "    .colab-df-convert:hover {\n",
              "      background-color: #E2EBFA;\n",
              "      box-shadow: 0px 1px 2px rgba(60, 64, 67, 0.3), 0px 1px 3px 1px rgba(60, 64, 67, 0.15);\n",
              "      fill: #174EA6;\n",
              "    }\n",
              "\n",
              "    [theme=dark] .colab-df-convert {\n",
              "      background-color: #3B4455;\n",
              "      fill: #D2E3FC;\n",
              "    }\n",
              "\n",
              "    [theme=dark] .colab-df-convert:hover {\n",
              "      background-color: #434B5C;\n",
              "      box-shadow: 0px 1px 3px 1px rgba(0, 0, 0, 0.15);\n",
              "      filter: drop-shadow(0px 1px 2px rgba(0, 0, 0, 0.3));\n",
              "      fill: #FFFFFF;\n",
              "    }\n",
              "  </style>\n",
              "\n",
              "      <script>\n",
              "        const buttonEl =\n",
              "          document.querySelector('#df-813555cb-a9bf-40fa-8f3d-70e0e354beda button.colab-df-convert');\n",
              "        buttonEl.style.display =\n",
              "          google.colab.kernel.accessAllowed ? 'block' : 'none';\n",
              "\n",
              "        async function convertToInteractive(key) {\n",
              "          const element = document.querySelector('#df-813555cb-a9bf-40fa-8f3d-70e0e354beda');\n",
              "          const dataTable =\n",
              "            await google.colab.kernel.invokeFunction('convertToInteractive',\n",
              "                                                     [key], {});\n",
              "          if (!dataTable) return;\n",
              "\n",
              "          const docLinkHtml = 'Like what you see? Visit the ' +\n",
              "            '<a target=\"_blank\" href=https://colab.research.google.com/notebooks/data_table.ipynb>data table notebook</a>'\n",
              "            + ' to learn more about interactive tables.';\n",
              "          element.innerHTML = '';\n",
              "          dataTable['output_type'] = 'display_data';\n",
              "          await google.colab.output.renderOutput(dataTable, element);\n",
              "          const docLink = document.createElement('div');\n",
              "          docLink.innerHTML = docLinkHtml;\n",
              "          element.appendChild(docLink);\n",
              "        }\n",
              "      </script>\n",
              "    </div>\n",
              "  </div>\n",
              "  "
            ]
          },
          "metadata": {},
          "execution_count": 61
        }
      ]
    },
    {
      "cell_type": "code",
      "source": [
        "Peso_Total = Granulometria[\"Retenido\"].sum() #Obtenemos el peso total de la muestra de suelo \n",
        "Peso_Total"
      ],
      "metadata": {
        "colab": {
          "base_uri": "https://localhost:8080/"
        },
        "id": "hdgpNYJ29Y6v",
        "outputId": "ae527bee-2341-4461-b272-0c05c905876f"
      },
      "execution_count": null,
      "outputs": [
        {
          "output_type": "execute_result",
          "data": {
            "text/plain": [
              "216"
            ]
          },
          "metadata": {},
          "execution_count": 62
        }
      ]
    },
    {
      "cell_type": "code",
      "source": [
        "Porpasa=[] #Obtenemos el porcentaje que pasa en cada tamiz, con el peso que pasa y el peso total\n",
        "Porpasa.append((Pasa[0]*100)/Peso_Total)\n",
        "Porpasa.append((Pasa[1]*100)/Peso_Total)\n",
        "Porpasa.append((Pasa[2]*100)/Peso_Total)\n",
        "Porpasa.append((Pasa[3]*100)/Peso_Total)\n",
        "Porpasa.append((Pasa[4]*100)/Peso_Total)\n",
        "Porpasa.append((Pasa[5]*100)/Peso_Total)\n",
        "Porpasa.append((Pasa[6]*100)/Peso_Total)\n",
        "Porcen_Pasa = pd.Series(Porpasa)"
      ],
      "metadata": {
        "id": "8e5UmEzD9cng"
      },
      "execution_count": null,
      "outputs": []
    },
    {
      "cell_type": "code",
      "source": [
        "Granulometria = pd.DataFrame({ #Tabla con la nueva columna de %Pasa\n",
        "    'Malla': Malla,\n",
        "    'Abertura': Abertura,\n",
        "    'Retenido': Retenido,\n",
        "    'Retenido Acumulado': Ret_Acu,\n",
        "    'Pasa': Pasa,\n",
        "    '% Pasa': Porcen_Pasa\n",
        "})\n",
        "Granulometria"
      ],
      "metadata": {
        "colab": {
          "base_uri": "https://localhost:8080/",
          "height": 269
        },
        "id": "BgNxQggZED17",
        "outputId": "9db08924-4427-48e0-f5fc-1a5e5984ae9f"
      },
      "execution_count": null,
      "outputs": [
        {
          "output_type": "execute_result",
          "data": {
            "text/plain": [
              "  Malla Abertura  Retenido  Retenido Acumulado  Pasa      % Pasa\n",
              "0    #4    4.750         0                   0   216  100.000000\n",
              "1   #10    2.000        25                  25   191   88.425926\n",
              "2   #20    0.850        40                  65   151   69.907407\n",
              "3   #40   0.2425        56                 121    95   43.981481\n",
              "4   #60    0.250        47                 168    48   22.222222\n",
              "5  #140    0.106        25                 193    23   10.648148\n",
              "6  #200    0.075        23                 216     0    0.000000"
            ],
            "text/html": [
              "\n",
              "  <div id=\"df-e1b3bb42-b5f4-4b2b-8679-933f953d9918\">\n",
              "    <div class=\"colab-df-container\">\n",
              "      <div>\n",
              "<style scoped>\n",
              "    .dataframe tbody tr th:only-of-type {\n",
              "        vertical-align: middle;\n",
              "    }\n",
              "\n",
              "    .dataframe tbody tr th {\n",
              "        vertical-align: top;\n",
              "    }\n",
              "\n",
              "    .dataframe thead th {\n",
              "        text-align: right;\n",
              "    }\n",
              "</style>\n",
              "<table border=\"1\" class=\"dataframe\">\n",
              "  <thead>\n",
              "    <tr style=\"text-align: right;\">\n",
              "      <th></th>\n",
              "      <th>Malla</th>\n",
              "      <th>Abertura</th>\n",
              "      <th>Retenido</th>\n",
              "      <th>Retenido Acumulado</th>\n",
              "      <th>Pasa</th>\n",
              "      <th>% Pasa</th>\n",
              "    </tr>\n",
              "  </thead>\n",
              "  <tbody>\n",
              "    <tr>\n",
              "      <th>0</th>\n",
              "      <td>#4</td>\n",
              "      <td>4.750</td>\n",
              "      <td>0</td>\n",
              "      <td>0</td>\n",
              "      <td>216</td>\n",
              "      <td>100.000000</td>\n",
              "    </tr>\n",
              "    <tr>\n",
              "      <th>1</th>\n",
              "      <td>#10</td>\n",
              "      <td>2.000</td>\n",
              "      <td>25</td>\n",
              "      <td>25</td>\n",
              "      <td>191</td>\n",
              "      <td>88.425926</td>\n",
              "    </tr>\n",
              "    <tr>\n",
              "      <th>2</th>\n",
              "      <td>#20</td>\n",
              "      <td>0.850</td>\n",
              "      <td>40</td>\n",
              "      <td>65</td>\n",
              "      <td>151</td>\n",
              "      <td>69.907407</td>\n",
              "    </tr>\n",
              "    <tr>\n",
              "      <th>3</th>\n",
              "      <td>#40</td>\n",
              "      <td>0.2425</td>\n",
              "      <td>56</td>\n",
              "      <td>121</td>\n",
              "      <td>95</td>\n",
              "      <td>43.981481</td>\n",
              "    </tr>\n",
              "    <tr>\n",
              "      <th>4</th>\n",
              "      <td>#60</td>\n",
              "      <td>0.250</td>\n",
              "      <td>47</td>\n",
              "      <td>168</td>\n",
              "      <td>48</td>\n",
              "      <td>22.222222</td>\n",
              "    </tr>\n",
              "    <tr>\n",
              "      <th>5</th>\n",
              "      <td>#140</td>\n",
              "      <td>0.106</td>\n",
              "      <td>25</td>\n",
              "      <td>193</td>\n",
              "      <td>23</td>\n",
              "      <td>10.648148</td>\n",
              "    </tr>\n",
              "    <tr>\n",
              "      <th>6</th>\n",
              "      <td>#200</td>\n",
              "      <td>0.075</td>\n",
              "      <td>23</td>\n",
              "      <td>216</td>\n",
              "      <td>0</td>\n",
              "      <td>0.000000</td>\n",
              "    </tr>\n",
              "  </tbody>\n",
              "</table>\n",
              "</div>\n",
              "      <button class=\"colab-df-convert\" onclick=\"convertToInteractive('df-e1b3bb42-b5f4-4b2b-8679-933f953d9918')\"\n",
              "              title=\"Convert this dataframe to an interactive table.\"\n",
              "              style=\"display:none;\">\n",
              "        \n",
              "  <svg xmlns=\"http://www.w3.org/2000/svg\" height=\"24px\"viewBox=\"0 0 24 24\"\n",
              "       width=\"24px\">\n",
              "    <path d=\"M0 0h24v24H0V0z\" fill=\"none\"/>\n",
              "    <path d=\"M18.56 5.44l.94 2.06.94-2.06 2.06-.94-2.06-.94-.94-2.06-.94 2.06-2.06.94zm-11 1L8.5 8.5l.94-2.06 2.06-.94-2.06-.94L8.5 2.5l-.94 2.06-2.06.94zm10 10l.94 2.06.94-2.06 2.06-.94-2.06-.94-.94-2.06-.94 2.06-2.06.94z\"/><path d=\"M17.41 7.96l-1.37-1.37c-.4-.4-.92-.59-1.43-.59-.52 0-1.04.2-1.43.59L10.3 9.45l-7.72 7.72c-.78.78-.78 2.05 0 2.83L4 21.41c.39.39.9.59 1.41.59.51 0 1.02-.2 1.41-.59l7.78-7.78 2.81-2.81c.8-.78.8-2.07 0-2.86zM5.41 20L4 18.59l7.72-7.72 1.47 1.35L5.41 20z\"/>\n",
              "  </svg>\n",
              "      </button>\n",
              "      \n",
              "  <style>\n",
              "    .colab-df-container {\n",
              "      display:flex;\n",
              "      flex-wrap:wrap;\n",
              "      gap: 12px;\n",
              "    }\n",
              "\n",
              "    .colab-df-convert {\n",
              "      background-color: #E8F0FE;\n",
              "      border: none;\n",
              "      border-radius: 50%;\n",
              "      cursor: pointer;\n",
              "      display: none;\n",
              "      fill: #1967D2;\n",
              "      height: 32px;\n",
              "      padding: 0 0 0 0;\n",
              "      width: 32px;\n",
              "    }\n",
              "\n",
              "    .colab-df-convert:hover {\n",
              "      background-color: #E2EBFA;\n",
              "      box-shadow: 0px 1px 2px rgba(60, 64, 67, 0.3), 0px 1px 3px 1px rgba(60, 64, 67, 0.15);\n",
              "      fill: #174EA6;\n",
              "    }\n",
              "\n",
              "    [theme=dark] .colab-df-convert {\n",
              "      background-color: #3B4455;\n",
              "      fill: #D2E3FC;\n",
              "    }\n",
              "\n",
              "    [theme=dark] .colab-df-convert:hover {\n",
              "      background-color: #434B5C;\n",
              "      box-shadow: 0px 1px 3px 1px rgba(0, 0, 0, 0.15);\n",
              "      filter: drop-shadow(0px 1px 2px rgba(0, 0, 0, 0.3));\n",
              "      fill: #FFFFFF;\n",
              "    }\n",
              "  </style>\n",
              "\n",
              "      <script>\n",
              "        const buttonEl =\n",
              "          document.querySelector('#df-e1b3bb42-b5f4-4b2b-8679-933f953d9918 button.colab-df-convert');\n",
              "        buttonEl.style.display =\n",
              "          google.colab.kernel.accessAllowed ? 'block' : 'none';\n",
              "\n",
              "        async function convertToInteractive(key) {\n",
              "          const element = document.querySelector('#df-e1b3bb42-b5f4-4b2b-8679-933f953d9918');\n",
              "          const dataTable =\n",
              "            await google.colab.kernel.invokeFunction('convertToInteractive',\n",
              "                                                     [key], {});\n",
              "          if (!dataTable) return;\n",
              "\n",
              "          const docLinkHtml = 'Like what you see? Visit the ' +\n",
              "            '<a target=\"_blank\" href=https://colab.research.google.com/notebooks/data_table.ipynb>data table notebook</a>'\n",
              "            + ' to learn more about interactive tables.';\n",
              "          element.innerHTML = '';\n",
              "          dataTable['output_type'] = 'display_data';\n",
              "          await google.colab.output.renderOutput(dataTable, element);\n",
              "          const docLink = document.createElement('div');\n",
              "          docLink.innerHTML = docLinkHtml;\n",
              "          element.appendChild(docLink);\n",
              "        }\n",
              "      </script>\n",
              "    </div>\n",
              "  </div>\n",
              "  "
            ]
          },
          "metadata": {},
          "execution_count": 71
        }
      ]
    },
    {
      "cell_type": "code",
      "source": [
        "import pandas as pd\n",
        "import matplotlib.pyplot as plt"
      ],
      "metadata": {
        "id": "eNSINJK3JZ6U"
      },
      "execution_count": null,
      "outputs": []
    },
    {
      "cell_type": "code",
      "source": [
        "# Crear datos de ejemplo\n",
        "df=Granulometria\n",
        "\n",
        "\n",
        "# Datos que se van a graficar en cada eje \n",
        "x=(df['Abertura'])\n",
        "y=(df['% Pasa'])\n",
        "\n",
        "\n",
        "fig = plt.figure(figsize=(10, 3)) #Dimensiones de los ejes \n",
        "plt.scatter(x, y)\n",
        "plt.plot(x, y, linestyle = \"dashdot\")  #Caracteristica de la garfica\n",
        "plt.grid(True, which='both') #Grilla de la grafica \n",
        "plt.xlabel(\"Abertura (mm)\",fontsize=12) #Titulo eje x\n",
        "plt.ylabel(\"% Pasa\",fontsize=12) #Titulo eje y\n",
        "plt.title(\"CURVA GRANULOMETRICA\",fontsize=20) #Titulo de la grafica \n",
        "plt.show()"
      ],
      "metadata": {
        "colab": {
          "base_uri": "https://localhost:8080/",
          "height": 345
        },
        "id": "1os0UVnkMy11",
        "outputId": "4d85652f-10d7-4cb1-e244-0f55be4fc410"
      },
      "execution_count": null,
      "outputs": [
        {
          "output_type": "display_data",
          "data": {
            "text/plain": [
              "<Figure size 1000x300 with 1 Axes>"
            ],
            "image/png": "[encoded data removed]"
          },
          "metadata": {}
        }
      ]
    },
    {
      "cell_type": "code",
      "source": [
        "# Crear datos de ejemplo\n",
        "df=Granulometria\n",
        "\n",
        "\n",
        "# Graficar retención acumulada\n",
        "x=(df['Abertura'])\n",
        "y=(df['% Pasa'])\n",
        "\n",
        "#Tenemos los datos de la grafica anterior \n",
        "fig = plt.figure(figsize=(15, 3))\n",
        "plt.scatter(x, y)\n",
        "plt.plot(x, y, linestyle = \"dashdot\")\n",
        "plt.grid(True, which='both')\n",
        "plt.xscale(\"log\")  #Agregamos escala logaritmica en el eje x\n",
        "plt.xlabel(\"Abertura (mm)\",fontsize=12)\n",
        "plt.ylabel(\"% Pasa\",fontsize=12)\n",
        "plt.title(\"CURVA GRANULOMETRICA\",fontsize=20)\n",
        "plt.show()"
      ],
      "metadata": {
        "colab": {
          "base_uri": "https://localhost:8080/",
          "height": 328
        },
        "id": "qexHVM06JdjV",
        "outputId": "ac0c6d19-ae9d-483c-948b-079af6caca6c"
      },
      "execution_count": null,
      "outputs": [
        {
          "output_type": "display_data",
          "data": {
            "text/plain": [
              "<Figure size 1500x300 with 1 Axes>"
            ],
            "image/png": "[encoded data removed]"
          },
          "metadata": {}
        }
      ]
    }
  ]
}